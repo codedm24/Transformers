{
  "nbformat": 4,
  "nbformat_minor": 0,
  "metadata": {
    "colab": {
      "provenance": [],
      "authorship_tag": "ABX9TyO4UkfYjMFWGNz8inA4KBQd",
      "include_colab_link": true
    },
    "kernelspec": {
      "name": "python3",
      "display_name": "Python 3"
    },
    "language_info": {
      "name": "python"
    }
  },
  "cells": [
    {
      "cell_type": "markdown",
      "metadata": {
        "id": "view-in-github",
        "colab_type": "text"
      },
      "source": [
        "<a href=\"https://colab.research.google.com/github/codedm24/Transformers/blob/main/Agents_ChatTemplate.ipynb\" target=\"_parent\"><img src=\"https://colab.research.google.com/assets/colab-badge.svg\" alt=\"Open In Colab\"/></a>"
      ]
    },
    {
      "cell_type": "code",
      "execution_count": 5,
      "metadata": {
        "colab": {
          "base_uri": "https://localhost:8080/"
        },
        "id": "Gq8CkR7aI1Dv",
        "outputId": "e005c04f-acac-41c5-b69b-d44b3f26a9bd"
      },
      "outputs": [
        {
          "output_type": "stream",
          "name": "stdout",
          "text": [
            "<|im_start|>system\n",
            "You are an AI Assistant with access to various tools.<|im_end|>\n",
            "<|im_start|>user\n",
            "Hi !<|im_end|>\n",
            "<|im_start|>system\n",
            "Hi human, what can help you with?<|im_end|>\n",
            "<|im_start|>assistant\n",
            "\n"
          ]
        }
      ],
      "source": [
        "from transformers import AutoTokenizer\n",
        "\n",
        "messages = [\n",
        "    {\"role\":\"system\", \"content\": \"You are an AI Assistant with access to various tools.\"},\n",
        "    {\"role\":\"user\", \"content\": \"Hi !\"},\n",
        "    {\"role\": \"system\", \"content\": \"Hi human, what can help you with?\"}\n",
        "]\n",
        "\n",
        "tokenizer = AutoTokenizer.from_pretrained(\"HuggingFaceTB/SmolLM2-1.7B-Instruct\")\n",
        "rendered_prompt = tokenizer.apply_chat_template(messages,tokenize=False,add_generation_prompt=True)\n",
        "print(rendered_prompt)"
      ]
    }
  ]
}